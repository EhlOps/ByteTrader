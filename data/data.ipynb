{
 "cells": [
  {
   "cell_type": "code",
   "execution_count": 2,
   "id": "e24b8c9b-215c-4365-aafd-ce9174b7f6eb",
   "metadata": {},
   "outputs": [],
   "source": [
    "import requests\n",
    "import zipfile\n",
    "import io\n",
    "import pandas as pd\n",
    "\n",
    "with requests.Session() as s:\n",
    "    response = s.get(\"https://data.binance.us/public_data/spot/daily/klines/BTCUSDT/1m/BTCUSDT-1m-2024-11-06.zip\")\n",
    "\n",
    "if response.status_code == 200:\n",
    "    zip_file = io.BytesIO(response.content)\n",
    "\n",
    "    with zipfile.ZipFile(zip_file, 'r') as zip_ref:\n",
    "        csv_filename = zip_ref.namelist()[0]\n",
    "        with zip_ref.open(csv_filename) as csv_file:\n",
    "            df = pd.read_csv(csv_file)\n",
    "\n",
    "    df.to_csv(\"2024-11-06.csv\", index=False)"
   ]
  },
  {
   "cell_type": "code",
   "execution_count": null,
   "id": "80939aa8-5ff6-4641-b03b-04ca43c39181",
   "metadata": {},
   "outputs": [],
   "source": []
  }
 ],
 "metadata": {
  "kernelspec": {
   "display_name": "Python 3 (ipykernel)",
   "language": "python",
   "name": "python3"
  },
  "language_info": {
   "codemirror_mode": {
    "name": "ipython",
    "version": 3
   },
   "file_extension": ".py",
   "mimetype": "text/x-python",
   "name": "python",
   "nbconvert_exporter": "python",
   "pygments_lexer": "ipython3",
   "version": "3.12.7"
  }
 },
 "nbformat": 4,
 "nbformat_minor": 5
}
